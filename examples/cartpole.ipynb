{
 "cells": [
  {
   "cell_type": "code",
   "execution_count": 1,
   "metadata": {},
   "outputs": [],
   "source": [
    "from __future__ import print_function\n",
    "\n",
    "import gym\n",
    "import numpy as np\n",
    "import matplotlib.pyplot as plt\n",
    "\n",
    "from dnetworks.model import NNet\n",
    "from dnetworks.layers import LinearLayer, LeakyReLU, MSELoss\n",
    "from dnetworks.optimizers import Adam\n",
    "from drlearn import DRLearn\n",
    "from drlearn.utils import Memory"
   ]
  },
  {
   "cell_type": "code",
   "execution_count": 2,
   "metadata": {},
   "outputs": [],
   "source": [
    "def play_game(model_rl, n_epochs=10):\n",
    "    for epoch in range(n_epochs):\n",
    "        state = model_rl.env.reset()\n",
    "        total_reward = 0\n",
    "        while True:\n",
    "            model_rl.env.render()\n",
    "            state = state.reshape(model_rl.n_states, 1)\n",
    "            action = np.argmax(model_rl.model.forward(state).T, axis=1)[0]\n",
    "            state, reward, done, _ = model_rl.env.step(action)\n",
    "            total_reward += reward\n",
    "            if done: break\n",
    "        print (\"%d Reward: %s\" % (epoch, total_reward))\n",
    "\n",
    "    model_rl.env.close()"
   ]
  },
  {
   "cell_type": "code",
   "execution_count": 3,
   "metadata": {},
   "outputs": [],
   "source": [
    "env_name = 'CartPole-v1'\n",
    "\n",
    "# Initialize the environment\n",
    "gym_env = gym.make(env_name)\n",
    "n_states = gym_env.observation_space.shape[0]\n",
    "n_actions = gym_env.action_space.n"
   ]
  },
  {
   "cell_type": "code",
   "execution_count": 4,
   "metadata": {},
   "outputs": [],
   "source": [
    "model = NNet()\n",
    "\n",
    "# Create the model structure\n",
    "model.add(LinearLayer(n_states, 64))\n",
    "model.add(LeakyReLU())\n",
    "\n",
    "model.add(LinearLayer(64, 32))\n",
    "model.add(LeakyReLU())\n",
    "\n",
    "model.add(LinearLayer(32, 8))\n",
    "model.add(LeakyReLU())\n",
    "\n",
    "model.add(LinearLayer(8, n_actions))"
   ]
  },
  {
   "cell_type": "code",
   "execution_count": 5,
   "metadata": {},
   "outputs": [],
   "source": [
    "# set the loss functions and the optimize method\n",
    "loss = MSELoss()\n",
    "optim = Adam(lr=0.001)\n",
    "memory = Memory(capacity=300, sample_size=32)\n",
    "\n",
    "dqn = DRLearn(\n",
    "    model=model,\n",
    "    optim=optim,\n",
    "    loss=loss,\n",
    "    env=gym_env,\n",
    "    memory=memory,\n",
    "    epsilon=0.9, \n",
    "    gamma=0.8, \n",
    "    decay_rate=0.005,\n",
    "    min_epsilon=0.1\n",
    ")"
   ]
  },
  {
   "cell_type": "code",
   "execution_count": 6,
   "metadata": {},
   "outputs": [
    {
     "name": "stdout",
     "output_type": "stream",
     "text": [
      "loss:  0.49106046276252935 max reward:  31.0 epoch:  0\n",
      "loss:  0.013912252573289985 max reward:  109.0 epoch:  100\n",
      "loss:  0.013653496731895094 max reward:  212.0 epoch:  200\n",
      "loss:  0.017644327033831803 max reward:  356.0 epoch:  300\n",
      "loss:  0.01110703346678944 max reward:  407.0 epoch:  400\n"
     ]
    },
    {
     "data": {
      "image/png": "[encoded data removed]",
      "text/plain": [
       "<Figure size 432x288 with 1 Axes>"
      ]
     },
     "metadata": {
      "needs_background": "light"
     },
     "output_type": "display_data"
    }
   ],
   "source": [
    "n_epochs = 1000\n",
    "epoch_losses = []\n",
    "max_reward = 0\n",
    "\n",
    "for epoch in range(n_epochs):\n",
    "    epoch_loss, total_reward = dqn.play()\n",
    "    max_reward = max(max_reward, total_reward)\n",
    "    dqn.update_epsilon(epoch=epoch)\n",
    "    epoch_losses.append(epoch_loss)\n",
    "\n",
    "    if epoch % 100 == 0:\n",
    "        print('loss: ', epoch_loss, 'max reward: ', max_reward, 'epoch: ', epoch)\n",
    "        \n",
    "    if max_reward == 500:\n",
    "        break\n",
    "\n",
    "plt.plot(np.convolve(epoch_losses, np.ones(20), 'valid') / 20)\n",
    "plt.show()"
   ]
  },
  {
   "cell_type": "code",
   "execution_count": 13,
   "metadata": {},
   "outputs": [
    {
     "name": "stderr",
     "output_type": "stream",
     "text": [
      "MovieWriter imagemagick unavailable; using Pillow instead.\n"
     ]
    },
    {
     "name": "stdout",
     "output_type": "stream",
     "text": [
      "0 Reward: 500.0\n"
     ]
    },
    {
     "data": {
      "image/png": "[encoded data removed]",
      "text/plain": [
       "<Figure size 600x400 with 1 Axes>"
      ]
     },
     "metadata": {
      "needs_background": "light"
     },
     "output_type": "display_data"
    }
   ],
   "source": [
    "play_game(model_rl=dqn, n_epochs=1)"
   ]
  }
 ],
 "metadata": {
  "kernelspec": {
   "display_name": "drlearn",
   "language": "python",
   "name": "drlearn"
  },
  "language_info": {
   "codemirror_mode": {
    "name": "ipython",
    "version": 3
   },
   "file_extension": ".py",
   "mimetype": "text/x-python",
   "name": "python",
   "nbconvert_exporter": "python",
   "pygments_lexer": "ipython3",
   "version": "3.7.3"
  }
 },
 "nbformat": 4,
 "nbformat_minor": 2
}
